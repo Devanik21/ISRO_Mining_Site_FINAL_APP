{
 "cells": [
  {
   "cell_type": "markdown",
   "metadata": {},
   "source": [
    "# Import necessary libraries"
   ]
  },
  {
   "cell_type": "code",
   "execution_count": 1,
   "metadata": {},
   "outputs": [],
   "source": [
    "from sklearn.ensemble import RandomForestClassifier\n",
    "from sklearn.metrics import classification_report, confusion_matrix, accuracy_score"
   ]
  },
  {
   "cell_type": "code",
   "execution_count": 2,
   "metadata": {},
   "outputs": [],
   "source": [
    "from pandas import *\n",
    "from numpy import *\n",
    "from seaborn import *\n",
    "from matplotlib.pyplot import *\n",
    "from sklearn.linear_model import LinearRegression\n",
    "from sklearn.preprocessing import PolynomialFeatures\n",
    "from sklearn.preprocessing import LabelEncoder\n",
    "from sklearn.preprocessing import MinMaxScaler\n",
    "import tensorflow as tf\n",
    "from sklearn.model_selection import train_test_split\n",
    "from sklearn.preprocessing import StandardScaler\n",
    "from tensorflow.keras.models import Sequential\n",
    "from tensorflow.keras.layers import Dense, Dropout, Flatten, Conv2D, MaxPooling2D, LSTM\n",
    "from tensorflow.keras.callbacks import EarlyStopping"
   ]
  },
  {
   "cell_type": "code",
   "execution_count": 3,
   "metadata": {},
   "outputs": [],
   "source": [
    "df = read_csv(\"space_mining_dataset.csv\")"
   ]
  },
  {
   "cell_type": "code",
   "execution_count": 4,
   "metadata": {},
   "outputs": [
    {
     "data": {
      "text/plain": [
       "<bound method NDFrame.head of        Celestial Body  Distance from Earth (M km)   Iron (%)  Nickel (%)  \\\n",
       "0              Europa                  642.933081  11.483867    1.994606   \n",
       "1            Ganymede                  472.073374  15.689480   10.364329   \n",
       "2                Mars                  849.155224   7.381894    1.740230   \n",
       "3            Ganymede                  359.054825  25.820767   11.145742   \n",
       "4            Ganymede                  777.456918   7.600523    7.908855   \n",
       "...               ...                         ...        ...         ...   \n",
       "999995           Mars                  433.887530  29.994169    6.606249   \n",
       "999996         Europa                  486.804255  32.395148    9.579504   \n",
       "999997           Mars                  678.528586  19.809052   12.583615   \n",
       "999998       Asteroid                  254.908712  11.620250    3.779978   \n",
       "999999           Moon                  700.513629  13.006732    7.158290   \n",
       "\n",
       "        Water Ice (%)  Other Minerals (%)  Estimated Value (B USD)  \\\n",
       "0            6.678221           79.843306                44.829297   \n",
       "1           10.845723           63.100468                33.240823   \n",
       "2           19.694838           71.183038                54.211806   \n",
       "3            3.170590           59.862900                65.193925   \n",
       "4           13.765708           70.724915                65.507641   \n",
       "...               ...                 ...                      ...   \n",
       "999995      17.688126           45.711456                79.742302   \n",
       "999996      27.848264           30.177083                83.097993   \n",
       "999997      25.442145           42.165189                78.444499   \n",
       "999998      15.394759           69.205013                35.603044   \n",
       "999999      17.696516           62.138462                54.345482   \n",
       "\n",
       "        Sustainability Index  Efficiency Index  Potential Mining Site  \n",
       "0                  60.813969         64.356215                   True  \n",
       "1                  27.658233         81.055578                  False  \n",
       "2                  39.303785         75.314698                  False  \n",
       "3                  40.490625         75.138513                  False  \n",
       "4                  24.506810         33.598366                  False  \n",
       "...                      ...               ...                    ...  \n",
       "999995             37.722686         53.831700                  False  \n",
       "999996             84.014533         78.459459                   True  \n",
       "999997             22.820808         32.102623                  False  \n",
       "999998             28.347812         46.032986                  False  \n",
       "999999             39.748524         53.559785                  False  \n",
       "\n",
       "[1000000 rows x 10 columns]>"
      ]
     },
     "execution_count": 4,
     "metadata": {},
     "output_type": "execute_result"
    }
   ],
   "source": [
    "df.head"
   ]
  },
  {
   "cell_type": "code",
   "execution_count": 5,
   "metadata": {},
   "outputs": [
    {
     "name": "stdout",
     "output_type": "stream",
     "text": [
      "Celestial Body                0\n",
      "Distance from Earth (M km)    0\n",
      "Iron (%)                      0\n",
      "Nickel (%)                    0\n",
      "Water Ice (%)                 0\n",
      "Other Minerals (%)            0\n",
      "Estimated Value (B USD)       0\n",
      "Sustainability Index          0\n",
      "Efficiency Index              0\n",
      "Potential Mining Site         0\n",
      "dtype: int64\n"
     ]
    }
   ],
   "source": [
    "# Check for missing values\n",
    "print(df.isnull().sum())"
   ]
  },
  {
   "cell_type": "code",
   "execution_count": 6,
   "metadata": {},
   "outputs": [
    {
     "data": {
      "text/html": [
       "<div>\n",
       "<style scoped>\n",
       "    .dataframe tbody tr th:only-of-type {\n",
       "        vertical-align: middle;\n",
       "    }\n",
       "\n",
       "    .dataframe tbody tr th {\n",
       "        vertical-align: top;\n",
       "    }\n",
       "\n",
       "    .dataframe thead th {\n",
       "        text-align: right;\n",
       "    }\n",
       "</style>\n",
       "<table border=\"1\" class=\"dataframe\">\n",
       "  <thead>\n",
       "    <tr style=\"text-align: right;\">\n",
       "      <th></th>\n",
       "      <th>Distance from Earth (M km)</th>\n",
       "      <th>Iron (%)</th>\n",
       "      <th>Nickel (%)</th>\n",
       "      <th>Water Ice (%)</th>\n",
       "      <th>Other Minerals (%)</th>\n",
       "      <th>Estimated Value (B USD)</th>\n",
       "      <th>Sustainability Index</th>\n",
       "      <th>Efficiency Index</th>\n",
       "    </tr>\n",
       "  </thead>\n",
       "  <tbody>\n",
       "    <tr>\n",
       "      <th>count</th>\n",
       "      <td>1000000.000000</td>\n",
       "      <td>1000000.000000</td>\n",
       "      <td>1000000.000000</td>\n",
       "      <td>1000000.000000</td>\n",
       "      <td>1000000.000000</td>\n",
       "      <td>1000000.000000</td>\n",
       "      <td>1000000.000000</td>\n",
       "      <td>1000000.000000</td>\n",
       "    </tr>\n",
       "    <tr>\n",
       "      <th>mean</th>\n",
       "      <td>524.823192</td>\n",
       "      <td>22.496477</td>\n",
       "      <td>8.003163</td>\n",
       "      <td>14.996044</td>\n",
       "      <td>54.504316</td>\n",
       "      <td>55.900963</td>\n",
       "      <td>54.983909</td>\n",
       "      <td>64.996452</td>\n",
       "    </tr>\n",
       "    <tr>\n",
       "      <th>std</th>\n",
       "      <td>274.147968</td>\n",
       "      <td>10.105533</td>\n",
       "      <td>4.043015</td>\n",
       "      <td>8.660267</td>\n",
       "      <td>13.907402</td>\n",
       "      <td>13.891214</td>\n",
       "      <td>20.218724</td>\n",
       "      <td>20.203471</td>\n",
       "    </tr>\n",
       "    <tr>\n",
       "      <th>min</th>\n",
       "      <td>50.000359</td>\n",
       "      <td>5.000035</td>\n",
       "      <td>1.000019</td>\n",
       "      <td>0.000012</td>\n",
       "      <td>15.256663</td>\n",
       "      <td>14.905954</td>\n",
       "      <td>20.000024</td>\n",
       "      <td>30.000033</td>\n",
       "    </tr>\n",
       "    <tr>\n",
       "      <th>25%</th>\n",
       "      <td>287.659575</td>\n",
       "      <td>13.742728</td>\n",
       "      <td>4.503428</td>\n",
       "      <td>7.497026</td>\n",
       "      <td>44.559517</td>\n",
       "      <td>45.524667</td>\n",
       "      <td>37.470819</td>\n",
       "      <td>47.510534</td>\n",
       "    </tr>\n",
       "    <tr>\n",
       "      <th>50%</th>\n",
       "      <td>524.519692</td>\n",
       "      <td>22.499629</td>\n",
       "      <td>8.006217</td>\n",
       "      <td>14.983074</td>\n",
       "      <td>54.490893</td>\n",
       "      <td>55.903735</td>\n",
       "      <td>54.981937</td>\n",
       "      <td>64.990360</td>\n",
       "    </tr>\n",
       "    <tr>\n",
       "      <th>75%</th>\n",
       "      <td>762.253884</td>\n",
       "      <td>31.239831</td>\n",
       "      <td>11.500805</td>\n",
       "      <td>22.504273</td>\n",
       "      <td>64.459976</td>\n",
       "      <td>66.254729</td>\n",
       "      <td>72.526795</td>\n",
       "      <td>82.494809</td>\n",
       "    </tr>\n",
       "    <tr>\n",
       "      <th>max</th>\n",
       "      <td>999.999413</td>\n",
       "      <td>39.999926</td>\n",
       "      <td>14.999998</td>\n",
       "      <td>29.999918</td>\n",
       "      <td>93.541423</td>\n",
       "      <td>96.971740</td>\n",
       "      <td>89.999947</td>\n",
       "      <td>99.999907</td>\n",
       "    </tr>\n",
       "  </tbody>\n",
       "</table>\n",
       "</div>"
      ],
      "text/plain": [
       "       Distance from Earth (M km)        Iron (%)      Nickel (%)  \\\n",
       "count              1000000.000000  1000000.000000  1000000.000000   \n",
       "mean                   524.823192       22.496477        8.003163   \n",
       "std                    274.147968       10.105533        4.043015   \n",
       "min                     50.000359        5.000035        1.000019   \n",
       "25%                    287.659575       13.742728        4.503428   \n",
       "50%                    524.519692       22.499629        8.006217   \n",
       "75%                    762.253884       31.239831       11.500805   \n",
       "max                    999.999413       39.999926       14.999998   \n",
       "\n",
       "        Water Ice (%)  Other Minerals (%)  Estimated Value (B USD)  \\\n",
       "count  1000000.000000      1000000.000000           1000000.000000   \n",
       "mean        14.996044           54.504316                55.900963   \n",
       "std          8.660267           13.907402                13.891214   \n",
       "min          0.000012           15.256663                14.905954   \n",
       "25%          7.497026           44.559517                45.524667   \n",
       "50%         14.983074           54.490893                55.903735   \n",
       "75%         22.504273           64.459976                66.254729   \n",
       "max         29.999918           93.541423                96.971740   \n",
       "\n",
       "       Sustainability Index  Efficiency Index  \n",
       "count        1000000.000000    1000000.000000  \n",
       "mean              54.983909         64.996452  \n",
       "std               20.218724         20.203471  \n",
       "min               20.000024         30.000033  \n",
       "25%               37.470819         47.510534  \n",
       "50%               54.981937         64.990360  \n",
       "75%               72.526795         82.494809  \n",
       "max               89.999947         99.999907  "
      ]
     },
     "execution_count": 6,
     "metadata": {},
     "output_type": "execute_result"
    }
   ],
   "source": [
    "df.describe()"
   ]
  },
  {
   "cell_type": "code",
   "execution_count": 7,
   "metadata": {},
   "outputs": [
    {
     "data": {
      "image/png": "[encoded data removed]",
      "text/plain": [
       "<Figure size 1500x1000 with 9 Axes>"
      ]
     },
     "metadata": {},
     "output_type": "display_data"
    }
   ],
   "source": [
    "# Visualize the distribution of each numerical feature\n",
    "df.hist(figsize=(15, 10))\n",
    "show()"
   ]
  },
  {
   "cell_type": "code",
   "execution_count": 8,
   "metadata": {},
   "outputs": [
    {
     "data": {
      "text/plain": [
       "Index(['Celestial Body', 'Distance from Earth (M km)', 'Iron (%)',\n",
       "       'Nickel (%)', 'Water Ice (%)', 'Other Minerals (%)',\n",
       "       'Estimated Value (B USD)', 'Sustainability Index', 'Efficiency Index',\n",
       "       'Potential Mining Site'],\n",
       "      dtype='object')"
      ]
     },
     "execution_count": 8,
     "metadata": {},
     "output_type": "execute_result"
    }
   ],
   "source": [
    "df.columns"
   ]
  },
  {
   "cell_type": "code",
   "execution_count": 9,
   "metadata": {},
   "outputs": [],
   "source": [
    "x = df.iloc[:, 1:-1]"
   ]
  },
  {
   "cell_type": "code",
   "execution_count": 10,
   "metadata": {},
   "outputs": [
    {
     "data": {
      "text/plain": [
       "Index(['Distance from Earth (M km)', 'Iron (%)', 'Nickel (%)', 'Water Ice (%)',\n",
       "       'Other Minerals (%)', 'Estimated Value (B USD)', 'Sustainability Index',\n",
       "       'Efficiency Index'],\n",
       "      dtype='object')"
      ]
     },
     "execution_count": 10,
     "metadata": {},
     "output_type": "execute_result"
    }
   ],
   "source": [
    "x.columns"
   ]
  },
  {
   "cell_type": "code",
   "execution_count": 11,
   "metadata": {},
   "outputs": [],
   "source": [
    "y = df.iloc[:, -1:]"
   ]
  },
  {
   "cell_type": "code",
   "execution_count": 12,
   "metadata": {},
   "outputs": [
    {
     "data": {
      "text/html": [
       "<div>\n",
       "<style scoped>\n",
       "    .dataframe tbody tr th:only-of-type {\n",
       "        vertical-align: middle;\n",
       "    }\n",
       "\n",
       "    .dataframe tbody tr th {\n",
       "        vertical-align: top;\n",
       "    }\n",
       "\n",
       "    .dataframe thead th {\n",
       "        text-align: right;\n",
       "    }\n",
       "</style>\n",
       "<table border=\"1\" class=\"dataframe\">\n",
       "  <thead>\n",
       "    <tr style=\"text-align: right;\">\n",
       "      <th></th>\n",
       "      <th>Potential Mining Site</th>\n",
       "    </tr>\n",
       "  </thead>\n",
       "  <tbody>\n",
       "    <tr>\n",
       "      <th>0</th>\n",
       "      <td>True</td>\n",
       "    </tr>\n",
       "    <tr>\n",
       "      <th>1</th>\n",
       "      <td>False</td>\n",
       "    </tr>\n",
       "    <tr>\n",
       "      <th>2</th>\n",
       "      <td>False</td>\n",
       "    </tr>\n",
       "    <tr>\n",
       "      <th>3</th>\n",
       "      <td>False</td>\n",
       "    </tr>\n",
       "    <tr>\n",
       "      <th>4</th>\n",
       "      <td>False</td>\n",
       "    </tr>\n",
       "    <tr>\n",
       "      <th>...</th>\n",
       "      <td>...</td>\n",
       "    </tr>\n",
       "    <tr>\n",
       "      <th>999995</th>\n",
       "      <td>False</td>\n",
       "    </tr>\n",
       "    <tr>\n",
       "      <th>999996</th>\n",
       "      <td>True</td>\n",
       "    </tr>\n",
       "    <tr>\n",
       "      <th>999997</th>\n",
       "      <td>False</td>\n",
       "    </tr>\n",
       "    <tr>\n",
       "      <th>999998</th>\n",
       "      <td>False</td>\n",
       "    </tr>\n",
       "    <tr>\n",
       "      <th>999999</th>\n",
       "      <td>False</td>\n",
       "    </tr>\n",
       "  </tbody>\n",
       "</table>\n",
       "<p>1000000 rows × 1 columns</p>\n",
       "</div>"
      ],
      "text/plain": [
       "        Potential Mining Site\n",
       "0                        True\n",
       "1                       False\n",
       "2                       False\n",
       "3                       False\n",
       "4                       False\n",
       "...                       ...\n",
       "999995                  False\n",
       "999996                   True\n",
       "999997                  False\n",
       "999998                  False\n",
       "999999                  False\n",
       "\n",
       "[1000000 rows x 1 columns]"
      ]
     },
     "execution_count": 12,
     "metadata": {},
     "output_type": "execute_result"
    }
   ],
   "source": [
    "y"
   ]
  },
  {
   "cell_type": "code",
   "execution_count": 13,
   "metadata": {},
   "outputs": [],
   "source": [
    "# Split df into training and testing sets\n",
    "x_train, x_test, y_train, y_test = train_test_split(\n",
    "    x, y, test_size=0.2, random_state=42\n",
    ")"
   ]
  },
  {
   "cell_type": "code",
   "execution_count": 14,
   "metadata": {},
   "outputs": [
    {
     "data": {
      "text/plain": [
       "'from sklearn.ensemble import  RandomForestClassifier\\n\\n# Initialize Random Forest classifier\\nr = RandomForestClassifier(n_estimators=5, random_state=1)\\n\\n# Train the classifier\\nr.fit(x_train, y_train)\\n'"
      ]
     },
     "execution_count": 14,
     "metadata": {},
     "output_type": "execute_result"
    }
   ],
   "source": [
    "\"\"\"from sklearn.ensemble import  RandomForestClassifier\n",
    "\n",
    "# Initialize Random Forest classifier\n",
    "r = RandomForestClassifier(n_estimators=5, random_state=1)\n",
    "\n",
    "# Train the classifier\n",
    "r.fit(x_train, y_train)\n",
    "\"\"\""
   ]
  },
  {
   "cell_type": "code",
   "execution_count": 15,
   "metadata": {},
   "outputs": [],
   "source": [
    "import joblib\n",
    "\n",
    "# loading The models anywhere\n",
    "\n",
    "r = joblib.load(\"RF_mining_model.pkl\")"
   ]
  },
  {
   "cell_type": "code",
   "execution_count": 16,
   "metadata": {},
   "outputs": [
    {
     "data": {
      "text/plain": [
       "0.99999875"
      ]
     },
     "execution_count": 16,
     "metadata": {},
     "output_type": "execute_result"
    }
   ],
   "source": [
    "r.score(x_train, y_train)"
   ]
  },
  {
   "cell_type": "code",
   "execution_count": 17,
   "metadata": {},
   "outputs": [
    {
     "data": {
      "text/plain": [
       "0.999995"
      ]
     },
     "execution_count": 17,
     "metadata": {},
     "output_type": "execute_result"
    }
   ],
   "source": [
    "r.score(x_test, y_test)"
   ]
  },
  {
   "cell_type": "code",
   "execution_count": 18,
   "metadata": {},
   "outputs": [
    {
     "name": "stdout",
     "output_type": "stream",
     "text": [
      "Prediction: [ True]\n"
     ]
    }
   ],
   "source": [
    "input_data = DataFrame(\n",
    "    [\n",
    "        [\n",
    "            413.95896411015195,\n",
    "            12.031864299982333,\n",
    "            4.860503665226579,\n",
    "            16.003773827097444,\n",
    "            67.10385820769365,\n",
    "            36.13170667717836,\n",
    "            70.128135040172,\n",
    "            98.46379316404845,\n",
    "        ]\n",
    "    ],\n",
    "    columns=[\n",
    "        \"Distance from Earth (M km)\",\n",
    "        \"Iron (%)\",\n",
    "        \"Nickel (%)\",\n",
    "        \"Water Ice (%)\",\n",
    "        \"Other Minerals (%)\",\n",
    "        \"Estimated Value (B USD)\",\n",
    "        \"Sustainability Index\",\n",
    "        \"Efficiency Index\",\n",
    "    ],\n",
    ")\n",
    "\n",
    "\n",
    "prediction = r.predict(input_data)\n",
    "print(\"Prediction:\", prediction)"
   ]
  },
  {
   "cell_type": "code",
   "execution_count": 19,
   "metadata": {},
   "outputs": [
    {
     "name": "stdout",
     "output_type": "stream",
     "text": [
      "Prediction: [False]\n"
     ]
    }
   ],
   "source": [
    "input_data = DataFrame(\n",
    "    [\n",
    "        [\n",
    "            262.8905503798111,\n",
    "            6.388814509817609,\n",
    "            1.3821046270023083,\n",
    "            11.568467371683752,\n",
    "            80.66061349149633,\n",
    "            31.054831518801926,\n",
    "            25.13901985443363,\n",
    "            89.44942857312876,\n",
    "        ]\n",
    "    ],\n",
    "    columns=[\n",
    "        \"Distance from Earth (M km)\",\n",
    "        \"Iron (%)\",\n",
    "        \"Nickel (%)\",\n",
    "        \"Water Ice (%)\",\n",
    "        \"Other Minerals (%)\",\n",
    "        \"Estimated Value (B USD)\",\n",
    "        \"Sustainability Index\",\n",
    "        \"Efficiency Index\",\n",
    "    ],\n",
    ")\n",
    "\n",
    "\n",
    "prediction = r.predict(input_data)\n",
    "print(\"Prediction:\", prediction)"
   ]
  },
  {
   "cell_type": "code",
   "execution_count": 20,
   "metadata": {},
   "outputs": [
    {
     "name": "stdout",
     "output_type": "stream",
     "text": [
      "Confusion Matrix:\n",
      " [[134668      0]\n",
      " [     1  65331]]\n",
      "\n",
      "Classification Report:\n",
      "               precision    recall  f1-score   support\n",
      "\n",
      "       False       1.00      1.00      1.00    134668\n",
      "        True       1.00      1.00      1.00     65332\n",
      "\n",
      "    accuracy                           1.00    200000\n",
      "   macro avg       1.00      1.00      1.00    200000\n",
      "weighted avg       1.00      1.00      1.00    200000\n",
      "\n",
      "\n",
      "Accuracy Score: 0.999995\n"
     ]
    }
   ],
   "source": [
    "# Make predictions on the test set\n",
    "y_pred = r.predict(x_test)\n",
    "\n",
    "# Model evaluation\n",
    "print(\"Confusion Matrix:\\n\", confusion_matrix(y_test, y_pred))\n",
    "print(\"\\nClassification Report:\\n\", classification_report(y_test, y_pred))\n",
    "print(\"\\nAccuracy Score:\", accuracy_score(y_test, y_pred))"
   ]
  },
  {
   "cell_type": "markdown",
   "metadata": {},
   "source": [
    "# Explained\n",
    "\n",
    "True Positives (TP): 65332\n",
    "\n",
    "True Negatives (TN): 134668      \n",
    "\n",
    "False Positives (FP): 0    # 0 error\n",
    "\n",
    "False Negatives (FN): 1      "
   ]
  },
  {
   "cell_type": "markdown",
   "metadata": {},
   "source": [
    "# save the model\n"
   ]
  },
  {
   "cell_type": "code",
   "execution_count": 21,
   "metadata": {},
   "outputs": [
    {
     "data": {
      "text/plain": [
       "'import joblib\\nimport os\\n\\n# Specify a directory to save the model\\nsave_dir = \"C:\\\\imp\\\\1. ISRO\"\\nos.makedirs(save_dir, exist_ok=True)\\n\\n# Save the trained model in the specified directory\\njoblib.dump(r, os.path.join(save_dir, \\'RF_mining_model.pkl\\'))\\n'"
      ]
     },
     "execution_count": 21,
     "metadata": {},
     "output_type": "execute_result"
    }
   ],
   "source": [
    "\"\"\"import joblib\n",
    "import os\n",
    "\n",
    "# Specify a directory to save the model\n",
    "save_dir = \"C:\\\\imp\\\\1. ISRO\"\n",
    "os.makedirs(save_dir, exist_ok=True)\n",
    "\n",
    "# Save the trained model in the specified directory\n",
    "joblib.dump(r, os.path.join(save_dir, 'RF_mining_model.pkl'))\n",
    "\"\"\""
   ]
  },
  {
   "cell_type": "code",
   "execution_count": 22,
   "metadata": {},
   "outputs": [
    {
     "data": {
      "text/plain": [
       "'from sklearn.ensemble import  GradientBoostingClassifier\\ng=GradientBoostingClassifier(n_estimators=10)'"
      ]
     },
     "execution_count": 22,
     "metadata": {},
     "output_type": "execute_result"
    }
   ],
   "source": [
    "\"\"\"from sklearn.ensemble import  GradientBoostingClassifier\n",
    "g=GradientBoostingClassifier(n_estimators=10)\"\"\""
   ]
  },
  {
   "cell_type": "code",
   "execution_count": 23,
   "metadata": {},
   "outputs": [],
   "source": [
    "# g.fit(x_train, y_train)"
   ]
  },
  {
   "cell_type": "code",
   "execution_count": 24,
   "metadata": {},
   "outputs": [
    {
     "data": {
      "text/plain": [
       "\"#saving The Models\\nimport joblib\\njoblib.dump(g,'FINAL_mining_model.pkl')\\n\""
      ]
     },
     "execution_count": 24,
     "metadata": {},
     "output_type": "execute_result"
    }
   ],
   "source": [
    "\"\"\"#saving The Models\n",
    "import joblib\n",
    "joblib.dump(g,'FINAL_mining_model.pkl')\n",
    "\"\"\""
   ]
  },
  {
   "cell_type": "code",
   "execution_count": 25,
   "metadata": {},
   "outputs": [],
   "source": [
    "# loading The models anywhere\n",
    "\n",
    "g = joblib.load(\"FINAL_mining_model.pkl\")"
   ]
  },
  {
   "cell_type": "code",
   "execution_count": 26,
   "metadata": {},
   "outputs": [],
   "source": [
    "# loading The models anywhere\n",
    "\n",
    "# g=joblib.load('GB_mining_model.pkl')"
   ]
  },
  {
   "cell_type": "code",
   "execution_count": 27,
   "metadata": {},
   "outputs": [
    {
     "data": {
      "text/plain": [
       "1.0"
      ]
     },
     "execution_count": 27,
     "metadata": {},
     "output_type": "execute_result"
    }
   ],
   "source": [
    "g.score(x_train, y_train)"
   ]
  },
  {
   "cell_type": "code",
   "execution_count": 28,
   "metadata": {},
   "outputs": [
    {
     "data": {
      "text/plain": [
       "1.0"
      ]
     },
     "execution_count": 28,
     "metadata": {},
     "output_type": "execute_result"
    }
   ],
   "source": [
    "g.score(x_test, y_test)"
   ]
  },
  {
   "cell_type": "code",
   "execution_count": 29,
   "metadata": {},
   "outputs": [
    {
     "name": "stdout",
     "output_type": "stream",
     "text": [
      "Confusion Matrix:\n",
      " [[134668      0]\n",
      " [     0  65332]]\n",
      "\n",
      "Classification Report:\n",
      "               precision    recall  f1-score   support\n",
      "\n",
      "       False       1.00      1.00      1.00    134668\n",
      "        True       1.00      1.00      1.00     65332\n",
      "\n",
      "    accuracy                           1.00    200000\n",
      "   macro avg       1.00      1.00      1.00    200000\n",
      "weighted avg       1.00      1.00      1.00    200000\n",
      "\n",
      "\n",
      "Accuracy Score: 1.0\n"
     ]
    }
   ],
   "source": [
    "# Make predictions on the test set\n",
    "y_pred = g.predict(x_test)\n",
    "\n",
    "# Model evaluation\n",
    "print(\"Confusion Matrix:\\n\", confusion_matrix(y_test, y_pred))\n",
    "print(\"\\nClassification Report:\\n\", classification_report(y_test, y_pred))\n",
    "print(\"\\nAccuracy Score:\", accuracy_score(y_test, y_pred))"
   ]
  },
  {
   "cell_type": "code",
   "execution_count": 30,
   "metadata": {},
   "outputs": [
    {
     "data": {
      "text/plain": [
       "'import joblib\\nimport os\\n\\n# Specify a directory to save the model\\nsave_dir = \"C:\\\\imp\\\\1. ISRO\"\\nos.makedirs(save_dir, exist_ok=True)\\n\\n# Save the trained model in the specified directory\\njoblib.dump(r, os.path.join(save_dir, \\'GB_mining_model.pkl\\'))\\n'"
      ]
     },
     "execution_count": 30,
     "metadata": {},
     "output_type": "execute_result"
    }
   ],
   "source": [
    "\"\"\"import joblib\n",
    "import os\n",
    "\n",
    "# Specify a directory to save the model\n",
    "save_dir = \"C:\\\\imp\\\\1. ISRO\"\n",
    "os.makedirs(save_dir, exist_ok=True)\n",
    "\n",
    "# Save the trained model in the specified directory\n",
    "joblib.dump(r, os.path.join(save_dir, 'GB_mining_model.pkl'))\n",
    "\"\"\""
   ]
  },
  {
   "cell_type": "code",
   "execution_count": null,
   "metadata": {},
   "outputs": [],
   "source": []
  },
  {
   "cell_type": "markdown",
   "metadata": {},
   "source": [
    "# STEPS TO `DEPLOY` A ML MODEL IN `Streamlit`"
   ]
  },
  {
   "cell_type": "markdown",
   "metadata": {},
   "source": [
    "# 1. Create app.py or any name.py file in a folder, containing the following below code as an example w.r.t to a dataset :"
   ]
  },
  {
   "cell_type": "markdown",
   "metadata": {},
   "source": [
    "Then `run` the file as `python` script"
   ]
  },
  {
   "cell_type": "markdown",
   "metadata": {},
   "source": [
    "# ................................................................................................................................................................................................"
   ]
  },
  {
   "cell_type": "markdown",
   "metadata": {},
   "source": [
    "`CODE`\n",
    "\n"
   ]
  },
  {
   "cell_type": "markdown",
   "metadata": {},
   "source": [
    "import streamlit as st\n",
    "import pandas as pd\n",
    "import joblib\n",
    "\n",
    "# Load the trained model\n",
    "model = joblib.load(\"C:\\\\imp\\\\1. ISRO\\\\RF_mining_model.pkl\")\n",
    "\n",
    "# Title of the web app\n",
    "st.title(\"Mining Site Prediction\")\n",
    "\n",
    "# Sidebar for user input\n",
    "st.sidebar.header(\"Input Features\")\n",
    "\n",
    "def user_input_features():\n",
    "    Distance_from_Earth = st.sidebar.slider(\"Distance from Earth (M km)\", 1.0, 1000.0, 100.0)\n",
    "    Iron = st.sidebar.slider(\"Iron (%)\", 0.0, 100.0, 50.0)\n",
    "    Nickel = st.sidebar.slider(\"Nickel (%)\", 0.0, 100.0, 50.0)\n",
    "    Water_Ice = st.sidebar.slider(\"Water Ice (%)\", 0.0, 100.0, 50.0)\n",
    "    Other_Minerals = st.sidebar.slider(\"Other Minerals (%)\", 0.0, 100.0, 50.0)\n",
    "    Estimated_Value = st.sidebar.slider(\"Estimated Value (B USD)\", 0.0, 500.0, 100.0)\n",
    "    Sustainability_Index = st.sidebar.slider(\"Sustainability Index\", 0.0, 100.0, 0.5)\n",
    "    Efficiency_Index = st.sidebar.slider(\"Efficiency Index\", 0.0, 100.0, 0.5)\n",
    "\n",
    "    data = {\n",
    "        'Distance from Earth (M km)': Distance_from_Earth,\n",
    "        'Iron (%)': Iron,\n",
    "        'Nickel (%)': Nickel,\n",
    "        'Water Ice (%)': Water_Ice,\n",
    "        'Other Minerals (%)': Other_Minerals,\n",
    "        'Estimated Value (B USD)': Estimated_Value,\n",
    "        'Sustainability Index': Sustainability_Index,\n",
    "        'Efficiency Index': Efficiency_Index\n",
    "    }\n",
    "\n",
    "    features = pd.DataFrame(data, index=[0])\n",
    "    return features\n",
    "\n",
    "# Get user input\n",
    "input_df = user_input_features()\n",
    "\n",
    "# Display user input\n",
    "st.subheader('User Input Features')\n",
    "st.write(input_df)\n",
    "\n",
    "# Make prediction\n",
    "prediction = model.predict(input_df)\n",
    "\n",
    "\n",
    "# Display the prediction result\n",
    "st.subheader('Prediction Result')\n",
    "\n",
    "# Customize the prediction message\n",
    "if prediction[0] == 1:\n",
    "    st.success(\"✅ This is a **Potential Mining Site**.\")\n",
    "else:\n",
    "    st.error(\"❌ This is **Not a Potential Mining Site**.\")\n",
    "\n",
    "# Optionally, you can add more details or a description below the result\n",
    "st.markdown(\"\"\"\n",
    "<div style=\"margin-top: 20px; padding: 10px; border: 1px solid #ddd; border-radius: 5px;\">\n",
    "    <strong>Note:</strong> The prediction is based on the model's analysis of key features such as distance from Earth, mineral composition,estimated value(B USD) and sustainability indices.\n",
    "</div>\n",
    "\"\"\", unsafe_allow_html=True)\n"
   ]
  },
  {
   "cell_type": "markdown",
   "metadata": {},
   "source": [
    "# ................................................................................................................................"
   ]
  },
  {
   "cell_type": "markdown",
   "metadata": {},
   "source": [
    "# 2. Now, open cmd and give the following command"
   ]
  },
  {
   "cell_type": "markdown",
   "metadata": {},
   "source": [
    "# cd 'path/to the folder/ where ur app.py is present'\n",
    "\n",
    "AND `Not` the path of ur app.py `file`"
   ]
  },
  {
   "cell_type": "markdown",
   "metadata": {},
   "source": [
    "# Run the command `streamlit run app.py `"
   ]
  },
  {
   "cell_type": "markdown",
   "metadata": {},
   "source": [
    "OR `any name` given to `file`"
   ]
  },
  {
   "cell_type": "markdown",
   "metadata": {},
   "source": [
    "# ................................................................................................................................"
   ]
  },
  {
   "cell_type": "markdown",
   "metadata": {},
   "source": [
    "`   CODE`"
   ]
  },
  {
   "cell_type": "markdown",
   "metadata": {},
   "source": [
    "C:\\Users\\debna>`cd \"C:\\imp\\1. ISRO\"`\n",
    "\n",
    "C:\\imp\\1. ISRO>`streamlit run app.py`\n",
    "\n",
    "You can now view your Streamlit app in your browser.\n",
    "\n",
    "Local URL: http://localhost:8501\n",
    "Network URL: http://192.168.118.96:8501"
   ]
  },
  {
   "cell_type": "markdown",
   "metadata": {},
   "source": [
    "# ..........................................................................................................."
   ]
  },
  {
   "cell_type": "markdown",
   "metadata": {},
   "source": [
    "# Now, lets deploy it permanently as `app`"
   ]
  }
 ],
 "metadata": {
  "kernelspec": {
   "display_name": "Python 3 (ipykernel)",
   "language": "python",
   "name": "python3"
  },
  "language_info": {
   "codemirror_mode": {
    "name": "ipython",
    "version": 3
   },
   "file_extension": ".py",
   "mimetype": "text/x-python",
   "name": "python",
   "nbconvert_exporter": "python",
   "pygments_lexer": "ipython3",
   "version": "3.12.4"
  }
 },
 "nbformat": 4,
 "nbformat_minor": 4
}
